{
 "cells": [
  {
   "cell_type": "code",
   "execution_count": 1,
   "metadata": {},
   "outputs": [],
   "source": [
    "import pandas as pd"
   ]
  },
  {
   "cell_type": "code",
   "execution_count": 2,
   "metadata": {},
   "outputs": [],
   "source": [
    "ca1 = pd.read_csv('ca1.csv')\n",
    "ca2 = pd.read_csv('ca2.csv')\n",
    "ca3 = pd.read_csv('ca3.csv')\n",
    "ca4 = pd.read_csv('ca4.csv')\n",
    "tx1 = pd.read_csv('tx1.csv')\n",
    "tx2 = pd.read_csv('tx2.csv')\n",
    "tx3 = pd.read_csv('tx3.csv')\n",
    "wi1 = pd.read_csv('wi1.csv')\n",
    "wi2 = pd.read_csv('wi2.csv')\n",
    "wi3 = pd.read_csv('wi3.csv')"
   ]
  },
  {
   "cell_type": "code",
   "execution_count": 3,
   "metadata": {},
   "outputs": [],
   "source": [
    "ca1 = ca1[ca1['id'].apply(lambda x: 'validation' in x)]\n",
    "ca2 = ca2[ca2['id'].apply(lambda x: 'validation' in x)]\n",
    "ca3 = ca3[ca3['id'].apply(lambda x: 'validation' in x)]\n",
    "ca4 = ca4[ca4['id'].apply(lambda x: 'validation' in x)]\n",
    "tx1 = tx1[tx1['id'].apply(lambda x: 'validation' in x)]\n",
    "tx2 = tx2[tx2['id'].apply(lambda x: 'validation' in x)]\n",
    "tx3 = tx3[tx3['id'].apply(lambda x: 'validation' in x)]\n",
    "wi1 = wi1[wi1['id'].apply(lambda x: 'validation' in x)]\n",
    "wi2 = wi2[wi2['id'].apply(lambda x: 'validation' in x)]\n",
    "wi3 = wi3[wi3['id'].apply(lambda x: 'validation' in x)]\n",
    "\n",
    "total = pd.concat([ca1,ca2,ca3,ca4,tx1,tx2,tx3,wi1,wi2,wi3])"
   ]
  },
  {
   "cell_type": "code",
   "execution_count": 4,
   "metadata": {},
   "outputs": [],
   "source": [
    "submission = pd.read_csv('sample_submission.csv')"
   ]
  },
  {
   "cell_type": "code",
   "execution_count": 5,
   "metadata": {},
   "outputs": [
    {
     "data": {
      "text/html": [
       "<div>\n",
       "<style scoped>\n",
       "    .dataframe tbody tr th:only-of-type {\n",
       "        vertical-align: middle;\n",
       "    }\n",
       "\n",
       "    .dataframe tbody tr th {\n",
       "        vertical-align: top;\n",
       "    }\n",
       "\n",
       "    .dataframe thead th {\n",
       "        text-align: right;\n",
       "    }\n",
       "</style>\n",
       "<table border=\"1\" class=\"dataframe\">\n",
       "  <thead>\n",
       "    <tr style=\"text-align: right;\">\n",
       "      <th></th>\n",
       "      <th>id</th>\n",
       "      <th>F1</th>\n",
       "      <th>F2</th>\n",
       "      <th>F3</th>\n",
       "      <th>F4</th>\n",
       "      <th>F5</th>\n",
       "      <th>F6</th>\n",
       "      <th>F7</th>\n",
       "      <th>F8</th>\n",
       "      <th>F9</th>\n",
       "      <th>...</th>\n",
       "      <th>F19</th>\n",
       "      <th>F20</th>\n",
       "      <th>F21</th>\n",
       "      <th>F22</th>\n",
       "      <th>F23</th>\n",
       "      <th>F24</th>\n",
       "      <th>F25</th>\n",
       "      <th>F26</th>\n",
       "      <th>F27</th>\n",
       "      <th>F28</th>\n",
       "    </tr>\n",
       "  </thead>\n",
       "  <tbody>\n",
       "    <tr>\n",
       "      <th>0</th>\n",
       "      <td>HOBBIES_1_001_CA_1_validation</td>\n",
       "      <td>0.731548</td>\n",
       "      <td>0.602239</td>\n",
       "      <td>0.576259</td>\n",
       "      <td>0.576259</td>\n",
       "      <td>0.666763</td>\n",
       "      <td>0.697927</td>\n",
       "      <td>0.774618</td>\n",
       "      <td>0.594270</td>\n",
       "      <td>0.830136</td>\n",
       "      <td>...</td>\n",
       "      <td>0.806885</td>\n",
       "      <td>1.106005</td>\n",
       "      <td>0.947998</td>\n",
       "      <td>0.733280</td>\n",
       "      <td>0.668994</td>\n",
       "      <td>0.719955</td>\n",
       "      <td>0.794372</td>\n",
       "      <td>0.804980</td>\n",
       "      <td>0.975345</td>\n",
       "      <td>1.026307</td>\n",
       "    </tr>\n",
       "    <tr>\n",
       "      <th>1</th>\n",
       "      <td>HOBBIES_1_002_CA_1_validation</td>\n",
       "      <td>0.376810</td>\n",
       "      <td>0.303342</td>\n",
       "      <td>0.303342</td>\n",
       "      <td>0.272026</td>\n",
       "      <td>0.324737</td>\n",
       "      <td>0.380480</td>\n",
       "      <td>0.359634</td>\n",
       "      <td>0.228535</td>\n",
       "      <td>0.184988</td>\n",
       "      <td>...</td>\n",
       "      <td>0.194359</td>\n",
       "      <td>0.255898</td>\n",
       "      <td>0.255898</td>\n",
       "      <td>0.191076</td>\n",
       "      <td>0.147530</td>\n",
       "      <td>0.211995</td>\n",
       "      <td>0.193752</td>\n",
       "      <td>0.260636</td>\n",
       "      <td>0.322175</td>\n",
       "      <td>0.305629</td>\n",
       "    </tr>\n",
       "    <tr>\n",
       "      <th>2</th>\n",
       "      <td>HOBBIES_1_003_CA_1_validation</td>\n",
       "      <td>0.375067</td>\n",
       "      <td>0.339015</td>\n",
       "      <td>0.339015</td>\n",
       "      <td>0.339015</td>\n",
       "      <td>0.380218</td>\n",
       "      <td>0.413324</td>\n",
       "      <td>0.536349</td>\n",
       "      <td>0.242370</td>\n",
       "      <td>0.178740</td>\n",
       "      <td>...</td>\n",
       "      <td>0.386299</td>\n",
       "      <td>0.494699</td>\n",
       "      <td>0.660418</td>\n",
       "      <td>0.561596</td>\n",
       "      <td>0.525162</td>\n",
       "      <td>0.529476</td>\n",
       "      <td>0.424375</td>\n",
       "      <td>0.458612</td>\n",
       "      <td>0.619648</td>\n",
       "      <td>0.592640</td>\n",
       "    </tr>\n",
       "    <tr>\n",
       "      <th>3</th>\n",
       "      <td>HOBBIES_1_004_CA_1_validation</td>\n",
       "      <td>1.919946</td>\n",
       "      <td>1.550575</td>\n",
       "      <td>1.452377</td>\n",
       "      <td>1.363488</td>\n",
       "      <td>1.840536</td>\n",
       "      <td>2.098127</td>\n",
       "      <td>2.151473</td>\n",
       "      <td>1.653069</td>\n",
       "      <td>1.735034</td>\n",
       "      <td>...</td>\n",
       "      <td>1.896736</td>\n",
       "      <td>2.198817</td>\n",
       "      <td>2.480596</td>\n",
       "      <td>1.974562</td>\n",
       "      <td>1.636800</td>\n",
       "      <td>1.586907</td>\n",
       "      <td>1.605151</td>\n",
       "      <td>1.934252</td>\n",
       "      <td>2.794098</td>\n",
       "      <td>2.614505</td>\n",
       "    </tr>\n",
       "    <tr>\n",
       "      <th>4</th>\n",
       "      <td>HOBBIES_1_005_CA_1_validation</td>\n",
       "      <td>0.950043</td>\n",
       "      <td>0.776254</td>\n",
       "      <td>0.970959</td>\n",
       "      <td>1.094025</td>\n",
       "      <td>1.164783</td>\n",
       "      <td>1.426780</td>\n",
       "      <td>1.693477</td>\n",
       "      <td>1.264129</td>\n",
       "      <td>1.177177</td>\n",
       "      <td>...</td>\n",
       "      <td>1.171127</td>\n",
       "      <td>1.432277</td>\n",
       "      <td>1.425666</td>\n",
       "      <td>0.977890</td>\n",
       "      <td>0.919709</td>\n",
       "      <td>0.919709</td>\n",
       "      <td>0.912857</td>\n",
       "      <td>1.124896</td>\n",
       "      <td>1.453151</td>\n",
       "      <td>1.611990</td>\n",
       "    </tr>\n",
       "  </tbody>\n",
       "</table>\n",
       "<p>5 rows × 29 columns</p>\n",
       "</div>"
      ],
      "text/plain": [
       "                              id        F1        F2        F3        F4  \\\n",
       "0  HOBBIES_1_001_CA_1_validation  0.731548  0.602239  0.576259  0.576259   \n",
       "1  HOBBIES_1_002_CA_1_validation  0.376810  0.303342  0.303342  0.272026   \n",
       "2  HOBBIES_1_003_CA_1_validation  0.375067  0.339015  0.339015  0.339015   \n",
       "3  HOBBIES_1_004_CA_1_validation  1.919946  1.550575  1.452377  1.363488   \n",
       "4  HOBBIES_1_005_CA_1_validation  0.950043  0.776254  0.970959  1.094025   \n",
       "\n",
       "         F5        F6        F7        F8        F9  ...       F19       F20  \\\n",
       "0  0.666763  0.697927  0.774618  0.594270  0.830136  ...  0.806885  1.106005   \n",
       "1  0.324737  0.380480  0.359634  0.228535  0.184988  ...  0.194359  0.255898   \n",
       "2  0.380218  0.413324  0.536349  0.242370  0.178740  ...  0.386299  0.494699   \n",
       "3  1.840536  2.098127  2.151473  1.653069  1.735034  ...  1.896736  2.198817   \n",
       "4  1.164783  1.426780  1.693477  1.264129  1.177177  ...  1.171127  1.432277   \n",
       "\n",
       "        F21       F22       F23       F24       F25       F26       F27  \\\n",
       "0  0.947998  0.733280  0.668994  0.719955  0.794372  0.804980  0.975345   \n",
       "1  0.255898  0.191076  0.147530  0.211995  0.193752  0.260636  0.322175   \n",
       "2  0.660418  0.561596  0.525162  0.529476  0.424375  0.458612  0.619648   \n",
       "3  2.480596  1.974562  1.636800  1.586907  1.605151  1.934252  2.794098   \n",
       "4  1.425666  0.977890  0.919709  0.919709  0.912857  1.124896  1.453151   \n",
       "\n",
       "        F28  \n",
       "0  1.026307  \n",
       "1  0.305629  \n",
       "2  0.592640  \n",
       "3  2.614505  \n",
       "4  1.611990  \n",
       "\n",
       "[5 rows x 29 columns]"
      ]
     },
     "execution_count": 5,
     "metadata": {},
     "output_type": "execute_result"
    }
   ],
   "source": [
    "submission = submission[['id']].merge(total, on=['id'], how='left').fillna(0)\n",
    "submission.head()"
   ]
  },
  {
   "cell_type": "code",
   "execution_count": 6,
   "metadata": {},
   "outputs": [],
   "source": [
    "submission.to_csv('my_submit.csv', index = False)"
   ]
  },
  {
   "cell_type": "markdown",
   "metadata": {},
   "source": [
    "test score 0.71584"
   ]
  },
  {
   "cell_type": "code",
   "execution_count": 7,
   "metadata": {},
   "outputs": [],
   "source": [
    "sub2 = pd.read_csv('base_v2.csv')"
   ]
  },
  {
   "cell_type": "code",
   "execution_count": 8,
   "metadata": {},
   "outputs": [],
   "source": [
    "sub_ans = submission.iloc[:,1:] * 0.5 + sub2.iloc[:,1:] * 0.5\n",
    "sub_final = pd.concat([submission['id'], sub_ans], axis=1)\n",
    "sub_final.to_csv('sub_final.csv', index = False)"
   ]
  },
  {
   "cell_type": "markdown",
   "metadata": {},
   "source": [
    "test score 0.67953"
   ]
  },
  {
   "cell_type": "code",
   "execution_count": 26,
   "metadata": {},
   "outputs": [],
   "source": [
    "import re"
   ]
  },
  {
   "cell_type": "code",
   "execution_count": 47,
   "metadata": {},
   "outputs": [],
   "source": [
    "a = sub2[sub2['id'].apply(lambda x: len(re.findall('CA_1|CA_3|WI_2', x)) == 0)]\n",
    "b = submission[submission['id'].apply(lambda x: len(re.findall('CA_1|CA_3|WI_2', x)) > 0)]\n",
    "\n",
    "total_sub = pd.concat([a,b]).sort_index()\n",
    "total_sub.to_csv('combo_sub.csv', index = False)"
   ]
  },
  {
   "cell_type": "markdown",
   "metadata": {},
   "source": [
    "test score 0.67020"
   ]
  },
  {
   "cell_type": "code",
   "execution_count": null,
   "metadata": {},
   "outputs": [],
   "source": []
  }
 ],
 "metadata": {
  "kernelspec": {
   "display_name": "Python 3",
   "language": "python",
   "name": "python3"
  },
  "language_info": {
   "codemirror_mode": {
    "name": "ipython",
    "version": 3
   },
   "file_extension": ".py",
   "mimetype": "text/x-python",
   "name": "python",
   "nbconvert_exporter": "python",
   "pygments_lexer": "ipython3",
   "version": "3.8.3"
  }
 },
 "nbformat": 4,
 "nbformat_minor": 4
}
